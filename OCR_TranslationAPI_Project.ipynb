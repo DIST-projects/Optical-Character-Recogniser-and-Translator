{
  "nbformat": 4,
  "nbformat_minor": 0,
  "metadata": {
    "colab": {
      "name": "OCR_TranslationAPI-Project.ipynb",
      "provenance": []
    },
    "kernelspec": {
      "name": "python3",
      "display_name": "Python 3"
    }
  },
  "cells": [
    {
      "cell_type": "code",
      "metadata": {
        "colab": {
          "base_uri": "https://localhost:8080/"
        },
        "id": "v7214Yg6iNKN",
        "outputId": "a86159c0-5e6c-4a8f-86d7-3feb0c600f8c"
      },
      "source": [
        "!pip install google_trans_new\r\n",
        "!pip install git+https://github.com/BoseCorp/py-googletrans.git --upgrade\r\n"
      ],
      "execution_count": 1,
      "outputs": [
        {
          "output_type": "stream",
          "text": [
            "Requirement already satisfied: google_trans_new in /usr/local/lib/python3.7/dist-packages (1.1.9)\n",
            "Collecting git+https://github.com/BoseCorp/py-googletrans.git\n",
            "  Cloning https://github.com/BoseCorp/py-googletrans.git to /tmp/pip-req-build-4sxju7wo\n",
            "  Running command git clone -q https://github.com/BoseCorp/py-googletrans.git /tmp/pip-req-build-4sxju7wo\n",
            "Requirement already satisfied, skipping upgrade: requests in /usr/local/lib/python3.7/dist-packages (from googletrans==2.3.0) (2.23.0)\n",
            "Requirement already satisfied, skipping upgrade: urllib3!=1.25.0,!=1.25.1,<1.26,>=1.21.1 in /usr/local/lib/python3.7/dist-packages (from requests->googletrans==2.3.0) (1.24.3)\n",
            "Requirement already satisfied, skipping upgrade: idna<3,>=2.5 in /usr/local/lib/python3.7/dist-packages (from requests->googletrans==2.3.0) (2.10)\n",
            "Requirement already satisfied, skipping upgrade: certifi>=2017.4.17 in /usr/local/lib/python3.7/dist-packages (from requests->googletrans==2.3.0) (2020.12.5)\n",
            "Requirement already satisfied, skipping upgrade: chardet<4,>=3.0.2 in /usr/local/lib/python3.7/dist-packages (from requests->googletrans==2.3.0) (3.0.4)\n",
            "Building wheels for collected packages: googletrans\n",
            "  Building wheel for googletrans (setup.py) ... \u001b[?25l\u001b[?25hdone\n",
            "  Created wheel for googletrans: filename=googletrans-2.3.0-cp37-none-any.whl size=16449 sha256=abeef47237509d1ce8b73dc0a353d63fced9f6810efe5f9cf94aff70736300ea\n",
            "  Stored in directory: /tmp/pip-ephem-wheel-cache-ttz9d0q0/wheels/6a/fc/9e/2d31d95d9e97da5166afd8225a6f3b6850dc2c6e84accefbfc\n",
            "Successfully built googletrans\n",
            "Installing collected packages: googletrans\n",
            "  Found existing installation: googletrans 2.3.0\n",
            "    Uninstalling googletrans-2.3.0:\n",
            "      Successfully uninstalled googletrans-2.3.0\n",
            "Successfully installed googletrans-2.3.0\n"
          ],
          "name": "stdout"
        }
      ]
    },
    {
      "cell_type": "code",
      "metadata": {
        "id": "kJP71fEtlj5t"
      },
      "source": [
        "# Importing the necessary libraries\r\n",
        "import pandas as pd\r\n",
        "import google_trans_new\r\n",
        "from google_trans_new import google_translator"
      ],
      "execution_count": 3,
      "outputs": []
    },
    {
      "cell_type": "code",
      "metadata": {
        "colab": {
          "base_uri": "https://localhost:8080/",
          "height": 346
        },
        "id": "1McftmS9llN1",
        "outputId": "67f76765-64f5-4387-c0a9-dc2dbb3e14b5"
      },
      "source": [
        "# Reading and storing the CSV file as a dataframe\r\n",
        "df = pd.read_csv('/content/Vegetables_names_in_hindi.csv')\r\n",
        "df.head(10)"
      ],
      "execution_count": 4,
      "outputs": [
        {
          "output_type": "execute_result",
          "data": {
            "text/html": [
              "<div>\n",
              "<style scoped>\n",
              "    .dataframe tbody tr th:only-of-type {\n",
              "        vertical-align: middle;\n",
              "    }\n",
              "\n",
              "    .dataframe tbody tr th {\n",
              "        vertical-align: top;\n",
              "    }\n",
              "\n",
              "    .dataframe thead th {\n",
              "        text-align: right;\n",
              "    }\n",
              "</style>\n",
              "<table border=\"1\" class=\"dataframe\">\n",
              "  <thead>\n",
              "    <tr style=\"text-align: right;\">\n",
              "      <th></th>\n",
              "      <th>Vegetable Names</th>\n",
              "    </tr>\n",
              "  </thead>\n",
              "  <tbody>\n",
              "    <tr>\n",
              "      <th>0</th>\n",
              "      <td>गाजर</td>\n",
              "    </tr>\n",
              "    <tr>\n",
              "      <th>1</th>\n",
              "      <td>शिमला मिर्च</td>\n",
              "    </tr>\n",
              "    <tr>\n",
              "      <th>2</th>\n",
              "      <td>भिन्डी</td>\n",
              "    </tr>\n",
              "    <tr>\n",
              "      <th>3</th>\n",
              "      <td>मक्का</td>\n",
              "    </tr>\n",
              "    <tr>\n",
              "      <th>4</th>\n",
              "      <td>लाल मिर्च</td>\n",
              "    </tr>\n",
              "    <tr>\n",
              "      <th>5</th>\n",
              "      <td>खीरा</td>\n",
              "    </tr>\n",
              "    <tr>\n",
              "      <th>6</th>\n",
              "      <td>कढ़ी पत्ता</td>\n",
              "    </tr>\n",
              "    <tr>\n",
              "      <th>7</th>\n",
              "      <td>बैगन</td>\n",
              "    </tr>\n",
              "    <tr>\n",
              "      <th>8</th>\n",
              "      <td>लहसुन</td>\n",
              "    </tr>\n",
              "    <tr>\n",
              "      <th>9</th>\n",
              "      <td>अदरक</td>\n",
              "    </tr>\n",
              "  </tbody>\n",
              "</table>\n",
              "</div>"
            ],
            "text/plain": [
              "  Vegetable Names\n",
              "0           गाजर \n",
              "1     शिमला मिर्च\n",
              "2         भिन्डी \n",
              "3          मक्का \n",
              "4       लाल मिर्च\n",
              "5           खीरा \n",
              "6       कढ़ी पत्ता\n",
              "7           बैगन \n",
              "8          लहसुन \n",
              "9           अदरक "
            ]
          },
          "metadata": {
            "tags": []
          },
          "execution_count": 4
        }
      ]
    },
    {
      "cell_type": "code",
      "metadata": {
        "colab": {
          "base_uri": "https://localhost:8080/"
        },
        "id": "MS58-wHhlpcC",
        "outputId": "7800be16-3d34-4727-f981-4d6a75cf1e91"
      },
      "source": [
        "translator = google_translator()\r\n",
        "translations = {}\r\n",
        "for column in df.columns:\r\n",
        "    # Unique elements of the column\r\n",
        "    unique_elements = df[column].unique()\r\n",
        "    for element in unique_elements:\r\n",
        "        # Adding all the translations to a dictionary (translations)\r\n",
        "        translations[element] = translator.translate(element)\r\n",
        "translations"
      ],
      "execution_count": 6,
      "outputs": [
        {
          "output_type": "execute_result",
          "data": {
            "text/plain": [
              "{'अदरक ': 'ginger ',\n",
              " 'कढ़ी पत्ता': 'Kadhi leaf ',\n",
              " 'खीरा ': 'Cucumber ',\n",
              " 'गाजर ': 'Carrots ',\n",
              " 'बैगन ': 'Bagan ',\n",
              " 'भिन्डी ': 'Lady finger ',\n",
              " 'मक्का ': 'Corn ',\n",
              " 'लहसुन ': 'Garlic ',\n",
              " 'लाल मिर्च': 'Red chilli ',\n",
              " 'शिमला मिर्च': 'capsicum '}"
            ]
          },
          "metadata": {
            "tags": []
          },
          "execution_count": 6
        }
      ]
    },
    {
      "cell_type": "code",
      "metadata": {
        "colab": {
          "base_uri": "https://localhost:8080/",
          "height": 346
        },
        "id": "1mT0POFalr9T",
        "outputId": "cbf410bf-82b4-447a-810a-8cbd26d86e28"
      },
      "source": [
        "# Replacing all the translated words from Hindi to English\r\n",
        "df.replace(translations, inplace = True)\r\n",
        "df.head(10)"
      ],
      "execution_count": 7,
      "outputs": [
        {
          "output_type": "execute_result",
          "data": {
            "text/html": [
              "<div>\n",
              "<style scoped>\n",
              "    .dataframe tbody tr th:only-of-type {\n",
              "        vertical-align: middle;\n",
              "    }\n",
              "\n",
              "    .dataframe tbody tr th {\n",
              "        vertical-align: top;\n",
              "    }\n",
              "\n",
              "    .dataframe thead th {\n",
              "        text-align: right;\n",
              "    }\n",
              "</style>\n",
              "<table border=\"1\" class=\"dataframe\">\n",
              "  <thead>\n",
              "    <tr style=\"text-align: right;\">\n",
              "      <th></th>\n",
              "      <th>Vegetable Names</th>\n",
              "    </tr>\n",
              "  </thead>\n",
              "  <tbody>\n",
              "    <tr>\n",
              "      <th>0</th>\n",
              "      <td>Carrots</td>\n",
              "    </tr>\n",
              "    <tr>\n",
              "      <th>1</th>\n",
              "      <td>capsicum</td>\n",
              "    </tr>\n",
              "    <tr>\n",
              "      <th>2</th>\n",
              "      <td>Lady finger</td>\n",
              "    </tr>\n",
              "    <tr>\n",
              "      <th>3</th>\n",
              "      <td>Corn</td>\n",
              "    </tr>\n",
              "    <tr>\n",
              "      <th>4</th>\n",
              "      <td>Red chilli</td>\n",
              "    </tr>\n",
              "    <tr>\n",
              "      <th>5</th>\n",
              "      <td>Cucumber</td>\n",
              "    </tr>\n",
              "    <tr>\n",
              "      <th>6</th>\n",
              "      <td>Kadhi leaf</td>\n",
              "    </tr>\n",
              "    <tr>\n",
              "      <th>7</th>\n",
              "      <td>Bagan</td>\n",
              "    </tr>\n",
              "    <tr>\n",
              "      <th>8</th>\n",
              "      <td>Garlic</td>\n",
              "    </tr>\n",
              "    <tr>\n",
              "      <th>9</th>\n",
              "      <td>ginger</td>\n",
              "    </tr>\n",
              "  </tbody>\n",
              "</table>\n",
              "</div>"
            ],
            "text/plain": [
              "  Vegetable Names\n",
              "0        Carrots \n",
              "1       capsicum \n",
              "2    Lady finger \n",
              "3           Corn \n",
              "4     Red chilli \n",
              "5       Cucumber \n",
              "6     Kadhi leaf \n",
              "7          Bagan \n",
              "8         Garlic \n",
              "9         ginger "
            ]
          },
          "metadata": {
            "tags": []
          },
          "execution_count": 7
        }
      ]
    }
  ]
}
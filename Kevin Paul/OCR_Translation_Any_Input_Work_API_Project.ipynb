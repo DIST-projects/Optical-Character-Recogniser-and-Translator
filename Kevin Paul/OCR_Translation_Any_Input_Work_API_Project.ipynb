{
  "nbformat": 4,
  "nbformat_minor": 0,
  "metadata": {
    "colab": {
      "name": "OCR_Translation- Any Input Work API-Project.ipynb",
      "provenance": []
    },
    "kernelspec": {
      "name": "python3",
      "display_name": "Python 3"
    }
  },
  "cells": [
    {
      "cell_type": "code",
      "metadata": {
        "colab": {
          "base_uri": "https://localhost:8080/"
        },
        "id": "v7214Yg6iNKN",
        "outputId": "1f10356f-81d8-4791-eeac-a0bb9f1b4484"
      },
      "source": [
        "!pip install google_trans_new\n",
        "!pip install git+https://github.com/BoseCorp/py-googletrans.git --upgrade\n"
      ],
      "execution_count": null,
      "outputs": [
        {
          "output_type": "stream",
          "text": [
            "Collecting google_trans_new\n",
            "  Downloading https://files.pythonhosted.org/packages/f9/7b/9f136106dc5824dc98185c97991d3cd9b53e70a197154dd49f7b899128f6/google_trans_new-1.1.9-py3-none-any.whl\n",
            "Installing collected packages: google-trans-new\n",
            "Successfully installed google-trans-new-1.1.9\n",
            "Collecting git+https://github.com/BoseCorp/py-googletrans.git\n",
            "  Cloning https://github.com/BoseCorp/py-googletrans.git to /tmp/pip-req-build-n4m576qo\n",
            "  Running command git clone -q https://github.com/BoseCorp/py-googletrans.git /tmp/pip-req-build-n4m576qo\n",
            "Requirement already satisfied, skipping upgrade: requests in /usr/local/lib/python3.7/dist-packages (from googletrans==2.3.0) (2.23.0)\n",
            "Requirement already satisfied, skipping upgrade: chardet<4,>=3.0.2 in /usr/local/lib/python3.7/dist-packages (from requests->googletrans==2.3.0) (3.0.4)\n",
            "Requirement already satisfied, skipping upgrade: idna<3,>=2.5 in /usr/local/lib/python3.7/dist-packages (from requests->googletrans==2.3.0) (2.10)\n",
            "Requirement already satisfied, skipping upgrade: certifi>=2017.4.17 in /usr/local/lib/python3.7/dist-packages (from requests->googletrans==2.3.0) (2020.12.5)\n",
            "Requirement already satisfied, skipping upgrade: urllib3!=1.25.0,!=1.25.1,<1.26,>=1.21.1 in /usr/local/lib/python3.7/dist-packages (from requests->googletrans==2.3.0) (1.24.3)\n",
            "Building wheels for collected packages: googletrans\n",
            "  Building wheel for googletrans (setup.py) ... \u001b[?25l\u001b[?25hdone\n",
            "  Created wheel for googletrans: filename=googletrans-2.3.0-cp37-none-any.whl size=16449 sha256=1333c458ad6b5448ee135b5947a508ff566088f5bc1a26460ce59933610111ec\n",
            "  Stored in directory: /tmp/pip-ephem-wheel-cache-j_9yl9qu/wheels/6a/fc/9e/2d31d95d9e97da5166afd8225a6f3b6850dc2c6e84accefbfc\n",
            "Successfully built googletrans\n",
            "Installing collected packages: googletrans\n",
            "Successfully installed googletrans-2.3.0\n"
          ],
          "name": "stdout"
        }
      ]
    },
    {
      "cell_type": "code",
      "metadata": {
        "id": "kJP71fEtlj5t"
      },
      "source": [
        "# Importing the necessary libraries\n",
        "import pandas as pd\n",
        "import google_trans_new\n",
        "from google_trans_new import google_translator"
      ],
      "execution_count": null,
      "outputs": []
    },
    {
      "cell_type": "code",
      "metadata": {
        "colab": {
          "base_uri": "https://localhost:8080/"
        },
        "id": "1McftmS9llN1",
        "outputId": "aa5a4d45-8dca-4a45-8867-33f94a0477ea"
      },
      "source": [
        "# Reading and storing the CSV file as a dataframe\n",
        "inp=input(\"Enter the text you want translated in Hindi: \")"
      ],
      "execution_count": null,
      "outputs": [
        {
          "output_type": "stream",
          "text": [
            "Enter the text you want translated in Hindi: मेरा नाम पॉल है\n"
          ],
          "name": "stdout"
        }
      ]
    },
    {
      "cell_type": "code",
      "metadata": {
        "colab": {
          "base_uri": "https://localhost:8080/",
          "height": 35
        },
        "id": "MS58-wHhlpcC",
        "outputId": "02fd7346-c072-41dc-893d-15505d95e9eb"
      },
      "source": [
        "translator = google_translator()\n",
        "translations = translator.translate(inp)\n",
        "translations"
      ],
      "execution_count": null,
      "outputs": [
        {
          "output_type": "execute_result",
          "data": {
            "application/vnd.google.colaboratory.intrinsic+json": {
              "type": "string"
            },
            "text/plain": [
              "'my name is Paul '"
            ]
          },
          "metadata": {
            "tags": []
          },
          "execution_count": 5
        }
      ]
    }
  ]
}
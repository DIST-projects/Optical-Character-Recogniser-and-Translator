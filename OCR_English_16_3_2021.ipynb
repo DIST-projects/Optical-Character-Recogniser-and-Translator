{
  "nbformat": 4,
  "nbformat_minor": 0,
  "metadata": {
    "colab": {
      "name": "OCR English 16/3/2021",
      "provenance": [],
      "collapsed_sections": []
    },
    "kernelspec": {
      "name": "python3",
      "display_name": "Python 3"
    },
    "accelerator": "GPU"
  },
  "cells": [
    {
      "cell_type": "code",
      "metadata": {
        "id": "sNxXQIdeX170",
        "colab": {
          "base_uri": "https://localhost:8080/"
        },
        "outputId": "a8f88129-bfbd-4486-fddb-95d3beb3657f"
      },
      "source": [
        "from google.colab import drive\r\n",
        "drive.mount('/content/gdrive')"
      ],
      "execution_count": 2,
      "outputs": [
        {
          "output_type": "stream",
          "text": [
            "Mounted at /content/gdrive\n"
          ],
          "name": "stdout"
        }
      ]
    },
    {
      "cell_type": "code",
      "metadata": {
        "id": "L4lrYCA_oR14"
      },
      "source": [
        "import numpy as np\r\n",
        "import pandas as pd\r\n",
        "from PIL import Image as pilImg\r\n",
        "import os \r\n",
        "import cv2\r\n",
        "from datetime import datetime\r\n",
        "import matplotlib.pyplot as plt\r\n",
        "import itertools"
      ],
      "execution_count": 3,
      "outputs": []
    },
    {
      "cell_type": "markdown",
      "metadata": {
        "id": "fWmXomySChp-"
      },
      "source": [
        "#**PREPARING  TRAIN DATA**"
      ]
    },
    {
      "cell_type": "code",
      "metadata": {
        "id": "E5oJ5m8L4ysN"
      },
      "source": [
        "def Extract_image_names(file_path,number):\r\n",
        "    \r\n",
        "    with open(file_path) as f:\r\n",
        "        file_names=f.readlines()\r\n",
        "        f.close()\r\n",
        "        count=0\r\n",
        "        img_names=[]\r\n",
        "        for file in file_names:\r\n",
        "            _,label,_=file.split('_')\r\n",
        "            if len(label)>=4 and len(label)<=12:\r\n",
        "                img_names.append(file)\r\n",
        "                count+=1\r\n",
        "            if count==number:\r\n",
        "                break\r\n",
        "        images_names=['SynthImageDataset'+x.strip() for x in img_names]\r\n",
        "        return images_names"
      ],
      "execution_count": 4,
      "outputs": []
    },
    {
      "cell_type": "code",
      "metadata": {
        "id": "a20H3Pgv5EL9"
      },
      "source": [
        "\r\n",
        "train_images= Extract_image_names('/content/gdrive/MyDrive/annotation_train.txt',200000)"
      ],
      "execution_count": 5,
      "outputs": []
    },
    {
      "cell_type": "code",
      "metadata": {
        "colab": {
          "base_uri": "https://localhost:8080/"
        },
        "id": "UkxUWJ-J5mQv",
        "outputId": "c482086f-59d9-45ac-c46d-8dd62407a2ac"
      },
      "source": [
        "train_images[:5]"
      ],
      "execution_count": 6,
      "outputs": [
        {
          "output_type": "execute_result",
          "data": {
            "text/plain": [
              "['SynthImageDataset./2425/1/115_Lube_45484.jpg 45484',\n",
              " 'SynthImageDataset./2425/1/114_Spencerian_73323.jpg 73323',\n",
              " 'SynthImageDataset./2425/1/112_CARPENTER_11682.jpg 11682',\n",
              " 'SynthImageDataset./2425/1/110_savannas_67969.jpg 67969',\n",
              " 'SynthImageDataset./2425/1/109_unfix_82473.jpg 82473']"
            ]
          },
          "metadata": {
            "tags": []
          },
          "execution_count": 6
        }
      ]
    },
    {
      "cell_type": "code",
      "metadata": {
        "id": "WISrkkzi5pBQ"
      },
      "source": [
        "def clean_file_names(file_names):\r\n",
        "    clean_files=[]\r\n",
        "    for file in file_names:\r\n",
        "        main_folder,img_loc,extension=file.split('.')\r\n",
        "        \r\n",
        "        extension,_=extension.split(' ')\r\n",
        "        img_file=main_folder+img_loc+'.'+extension\r\n",
        "        clean_files.append(img_file)\r\n",
        "    return clean_files"
      ],
      "execution_count": 7,
      "outputs": []
    },
    {
      "cell_type": "code",
      "metadata": {
        "id": "j6Q575qC5s9O"
      },
      "source": [
        "train_cleaned=clean_file_names(train_images)"
      ],
      "execution_count": 8,
      "outputs": []
    },
    {
      "cell_type": "code",
      "metadata": {
        "colab": {
          "base_uri": "https://localhost:8080/"
        },
        "id": "Vxz4OFha5vAG",
        "outputId": "82520cf1-afcf-4d25-a127-62842e101f95"
      },
      "source": [
        "train_cleaned[:5]"
      ],
      "execution_count": 9,
      "outputs": [
        {
          "output_type": "execute_result",
          "data": {
            "text/plain": [
              "['SynthImageDataset/2425/1/115_Lube_45484.jpg',\n",
              " 'SynthImageDataset/2425/1/114_Spencerian_73323.jpg',\n",
              " 'SynthImageDataset/2425/1/112_CARPENTER_11682.jpg',\n",
              " 'SynthImageDataset/2425/1/110_savannas_67969.jpg',\n",
              " 'SynthImageDataset/2425/1/109_unfix_82473.jpg']"
            ]
          },
          "metadata": {
            "tags": []
          },
          "execution_count": 9
        }
      ]
    },
    {
      "cell_type": "code",
      "metadata": {
        "id": "xT5WkLqk5w92"
      },
      "source": [
        "train_data=pd.DataFrame({'ImageName':train_cleaned})"
      ],
      "execution_count": 10,
      "outputs": []
    },
    {
      "cell_type": "code",
      "metadata": {
        "colab": {
          "base_uri": "https://localhost:8080/",
          "height": 198
        },
        "id": "NnKGTRPp516-",
        "outputId": "80199459-34d7-479b-f72d-e598209a37f0"
      },
      "source": [
        "train_data.head()"
      ],
      "execution_count": 11,
      "outputs": [
        {
          "output_type": "execute_result",
          "data": {
            "text/html": [
              "<div>\n",
              "<style scoped>\n",
              "    .dataframe tbody tr th:only-of-type {\n",
              "        vertical-align: middle;\n",
              "    }\n",
              "\n",
              "    .dataframe tbody tr th {\n",
              "        vertical-align: top;\n",
              "    }\n",
              "\n",
              "    .dataframe thead th {\n",
              "        text-align: right;\n",
              "    }\n",
              "</style>\n",
              "<table border=\"1\" class=\"dataframe\">\n",
              "  <thead>\n",
              "    <tr style=\"text-align: right;\">\n",
              "      <th></th>\n",
              "      <th>ImageName</th>\n",
              "    </tr>\n",
              "  </thead>\n",
              "  <tbody>\n",
              "    <tr>\n",
              "      <th>0</th>\n",
              "      <td>SynthImageDataset/2425/1/115_Lube_45484.jpg</td>\n",
              "    </tr>\n",
              "    <tr>\n",
              "      <th>1</th>\n",
              "      <td>SynthImageDataset/2425/1/114_Spencerian_73323.jpg</td>\n",
              "    </tr>\n",
              "    <tr>\n",
              "      <th>2</th>\n",
              "      <td>SynthImageDataset/2425/1/112_CARPENTER_11682.jpg</td>\n",
              "    </tr>\n",
              "    <tr>\n",
              "      <th>3</th>\n",
              "      <td>SynthImageDataset/2425/1/110_savannas_67969.jpg</td>\n",
              "    </tr>\n",
              "    <tr>\n",
              "      <th>4</th>\n",
              "      <td>SynthImageDataset/2425/1/109_unfix_82473.jpg</td>\n",
              "    </tr>\n",
              "  </tbody>\n",
              "</table>\n",
              "</div>"
            ],
            "text/plain": [
              "                                           ImageName\n",
              "0        SynthImageDataset/2425/1/115_Lube_45484.jpg\n",
              "1  SynthImageDataset/2425/1/114_Spencerian_73323.jpg\n",
              "2   SynthImageDataset/2425/1/112_CARPENTER_11682.jpg\n",
              "3    SynthImageDataset/2425/1/110_savannas_67969.jpg\n",
              "4       SynthImageDataset/2425/1/109_unfix_82473.jpg"
            ]
          },
          "metadata": {
            "tags": []
          },
          "execution_count": 11
        }
      ]
    },
    {
      "cell_type": "markdown",
      "metadata": {
        "id": "cgTFXXYACnF2"
      },
      "source": [
        "#**EXTRACTING GROUND TRUTH VALUES**"
      ]
    },
    {
      "cell_type": "code",
      "metadata": {
        "id": "SDraFSLx53eG"
      },
      "source": [
        "def extract_ground_truth(files):\r\n",
        "    txt_labels=[]\r\n",
        "    for file in files:\r\n",
        "        folder,ground_truth,image=file.split('_')\r\n",
        "        ground_truth=ground_truth.upper()\r\n",
        "        txt_labels.append(ground_truth)\r\n",
        "    return txt_labels"
      ],
      "execution_count": 12,
      "outputs": []
    },
    {
      "cell_type": "code",
      "metadata": {
        "id": "kgHlceY56AFP"
      },
      "source": [
        "Train_ground_truths=extract_ground_truth(train_cleaned)"
      ],
      "execution_count": 13,
      "outputs": []
    },
    {
      "cell_type": "code",
      "metadata": {
        "id": "Z-iqKxfK6CPl"
      },
      "source": [
        "train_data['Labels']=Train_ground_truths"
      ],
      "execution_count": 14,
      "outputs": []
    },
    {
      "cell_type": "code",
      "metadata": {
        "colab": {
          "base_uri": "https://localhost:8080/",
          "height": 198
        },
        "id": "v8skKopm6EEV",
        "outputId": "3346ccf8-7014-4226-cb3b-82161de29479"
      },
      "source": [
        "train_data.head()"
      ],
      "execution_count": 15,
      "outputs": [
        {
          "output_type": "execute_result",
          "data": {
            "text/html": [
              "<div>\n",
              "<style scoped>\n",
              "    .dataframe tbody tr th:only-of-type {\n",
              "        vertical-align: middle;\n",
              "    }\n",
              "\n",
              "    .dataframe tbody tr th {\n",
              "        vertical-align: top;\n",
              "    }\n",
              "\n",
              "    .dataframe thead th {\n",
              "        text-align: right;\n",
              "    }\n",
              "</style>\n",
              "<table border=\"1\" class=\"dataframe\">\n",
              "  <thead>\n",
              "    <tr style=\"text-align: right;\">\n",
              "      <th></th>\n",
              "      <th>ImageName</th>\n",
              "      <th>Labels</th>\n",
              "    </tr>\n",
              "  </thead>\n",
              "  <tbody>\n",
              "    <tr>\n",
              "      <th>0</th>\n",
              "      <td>SynthImageDataset/2425/1/115_Lube_45484.jpg</td>\n",
              "      <td>LUBE</td>\n",
              "    </tr>\n",
              "    <tr>\n",
              "      <th>1</th>\n",
              "      <td>SynthImageDataset/2425/1/114_Spencerian_73323.jpg</td>\n",
              "      <td>SPENCERIAN</td>\n",
              "    </tr>\n",
              "    <tr>\n",
              "      <th>2</th>\n",
              "      <td>SynthImageDataset/2425/1/112_CARPENTER_11682.jpg</td>\n",
              "      <td>CARPENTER</td>\n",
              "    </tr>\n",
              "    <tr>\n",
              "      <th>3</th>\n",
              "      <td>SynthImageDataset/2425/1/110_savannas_67969.jpg</td>\n",
              "      <td>SAVANNAS</td>\n",
              "    </tr>\n",
              "    <tr>\n",
              "      <th>4</th>\n",
              "      <td>SynthImageDataset/2425/1/109_unfix_82473.jpg</td>\n",
              "      <td>UNFIX</td>\n",
              "    </tr>\n",
              "  </tbody>\n",
              "</table>\n",
              "</div>"
            ],
            "text/plain": [
              "                                           ImageName      Labels\n",
              "0        SynthImageDataset/2425/1/115_Lube_45484.jpg        LUBE\n",
              "1  SynthImageDataset/2425/1/114_Spencerian_73323.jpg  SPENCERIAN\n",
              "2   SynthImageDataset/2425/1/112_CARPENTER_11682.jpg   CARPENTER\n",
              "3    SynthImageDataset/2425/1/110_savannas_67969.jpg    SAVANNAS\n",
              "4       SynthImageDataset/2425/1/109_unfix_82473.jpg       UNFIX"
            ]
          },
          "metadata": {
            "tags": []
          },
          "execution_count": 15
        }
      ]
    },
    {
      "cell_type": "code",
      "metadata": {
        "id": "YhV6YQNz6Ggl"
      },
      "source": [
        "train_data.to_csv('Train_data.csv')"
      ],
      "execution_count": 16,
      "outputs": []
    },
    {
      "cell_type": "markdown",
      "metadata": {
        "id": "dAstGyvDC5Hv"
      },
      "source": [
        "#**TRAIN DATA CREATION**\r\n",
        "\r\n",
        "```\r\n",
        "# This is formatted as code\r\n",
        "```\r\n",
        "\r\n"
      ]
    },
    {
      "cell_type": "code",
      "metadata": {
        "id": "rJRbOtld6JAF"
      },
      "source": [
        "Validation_images=Extract_image_names('/content/gdrive/MyDrive/annotation_train.txt',12000)"
      ],
      "execution_count": 18,
      "outputs": []
    },
    {
      "cell_type": "code",
      "metadata": {
        "id": "S5Jkob-Q6LFu"
      },
      "source": [
        "val_cleaned=clean_file_names(Validation_images)"
      ],
      "execution_count": 19,
      "outputs": []
    },
    {
      "cell_type": "code",
      "metadata": {
        "id": "Chw8szgl6RZt"
      },
      "source": [
        "val_data=pd.DataFrame({'ImageName':val_cleaned})"
      ],
      "execution_count": 20,
      "outputs": []
    },
    {
      "cell_type": "code",
      "metadata": {
        "colab": {
          "base_uri": "https://localhost:8080/",
          "height": 198
        },
        "id": "9l-JRsg06TMG",
        "outputId": "edaf5cf7-cfb8-4d2f-c10d-09bf5417af9a"
      },
      "source": [
        "val_data.head()"
      ],
      "execution_count": 21,
      "outputs": [
        {
          "output_type": "execute_result",
          "data": {
            "text/html": [
              "<div>\n",
              "<style scoped>\n",
              "    .dataframe tbody tr th:only-of-type {\n",
              "        vertical-align: middle;\n",
              "    }\n",
              "\n",
              "    .dataframe tbody tr th {\n",
              "        vertical-align: top;\n",
              "    }\n",
              "\n",
              "    .dataframe thead th {\n",
              "        text-align: right;\n",
              "    }\n",
              "</style>\n",
              "<table border=\"1\" class=\"dataframe\">\n",
              "  <thead>\n",
              "    <tr style=\"text-align: right;\">\n",
              "      <th></th>\n",
              "      <th>ImageName</th>\n",
              "    </tr>\n",
              "  </thead>\n",
              "  <tbody>\n",
              "    <tr>\n",
              "      <th>0</th>\n",
              "      <td>SynthImageDataset/2425/1/115_Lube_45484.jpg</td>\n",
              "    </tr>\n",
              "    <tr>\n",
              "      <th>1</th>\n",
              "      <td>SynthImageDataset/2425/1/114_Spencerian_73323.jpg</td>\n",
              "    </tr>\n",
              "    <tr>\n",
              "      <th>2</th>\n",
              "      <td>SynthImageDataset/2425/1/112_CARPENTER_11682.jpg</td>\n",
              "    </tr>\n",
              "    <tr>\n",
              "      <th>3</th>\n",
              "      <td>SynthImageDataset/2425/1/110_savannas_67969.jpg</td>\n",
              "    </tr>\n",
              "    <tr>\n",
              "      <th>4</th>\n",
              "      <td>SynthImageDataset/2425/1/109_unfix_82473.jpg</td>\n",
              "    </tr>\n",
              "  </tbody>\n",
              "</table>\n",
              "</div>"
            ],
            "text/plain": [
              "                                           ImageName\n",
              "0        SynthImageDataset/2425/1/115_Lube_45484.jpg\n",
              "1  SynthImageDataset/2425/1/114_Spencerian_73323.jpg\n",
              "2   SynthImageDataset/2425/1/112_CARPENTER_11682.jpg\n",
              "3    SynthImageDataset/2425/1/110_savannas_67969.jpg\n",
              "4       SynthImageDataset/2425/1/109_unfix_82473.jpg"
            ]
          },
          "metadata": {
            "tags": []
          },
          "execution_count": 21
        }
      ]
    },
    {
      "cell_type": "code",
      "metadata": {
        "id": "bOPQGylH6VB-"
      },
      "source": [
        "Val_ground_truths=extract_ground_truth(val_cleaned)"
      ],
      "execution_count": 22,
      "outputs": []
    },
    {
      "cell_type": "code",
      "metadata": {
        "id": "p6XOwwN06cL2"
      },
      "source": [
        "val_data['Labels']=Val_ground_truths"
      ],
      "execution_count": 23,
      "outputs": []
    },
    {
      "cell_type": "code",
      "metadata": {
        "colab": {
          "base_uri": "https://localhost:8080/",
          "height": 198
        },
        "id": "EprYLJJH6d4u",
        "outputId": "cfe60742-99f2-4632-bb50-8a6bf31328ad"
      },
      "source": [
        "val_data.head()"
      ],
      "execution_count": 24,
      "outputs": [
        {
          "output_type": "execute_result",
          "data": {
            "text/html": [
              "<div>\n",
              "<style scoped>\n",
              "    .dataframe tbody tr th:only-of-type {\n",
              "        vertical-align: middle;\n",
              "    }\n",
              "\n",
              "    .dataframe tbody tr th {\n",
              "        vertical-align: top;\n",
              "    }\n",
              "\n",
              "    .dataframe thead th {\n",
              "        text-align: right;\n",
              "    }\n",
              "</style>\n",
              "<table border=\"1\" class=\"dataframe\">\n",
              "  <thead>\n",
              "    <tr style=\"text-align: right;\">\n",
              "      <th></th>\n",
              "      <th>ImageName</th>\n",
              "      <th>Labels</th>\n",
              "    </tr>\n",
              "  </thead>\n",
              "  <tbody>\n",
              "    <tr>\n",
              "      <th>0</th>\n",
              "      <td>SynthImageDataset/2425/1/115_Lube_45484.jpg</td>\n",
              "      <td>LUBE</td>\n",
              "    </tr>\n",
              "    <tr>\n",
              "      <th>1</th>\n",
              "      <td>SynthImageDataset/2425/1/114_Spencerian_73323.jpg</td>\n",
              "      <td>SPENCERIAN</td>\n",
              "    </tr>\n",
              "    <tr>\n",
              "      <th>2</th>\n",
              "      <td>SynthImageDataset/2425/1/112_CARPENTER_11682.jpg</td>\n",
              "      <td>CARPENTER</td>\n",
              "    </tr>\n",
              "    <tr>\n",
              "      <th>3</th>\n",
              "      <td>SynthImageDataset/2425/1/110_savannas_67969.jpg</td>\n",
              "      <td>SAVANNAS</td>\n",
              "    </tr>\n",
              "    <tr>\n",
              "      <th>4</th>\n",
              "      <td>SynthImageDataset/2425/1/109_unfix_82473.jpg</td>\n",
              "      <td>UNFIX</td>\n",
              "    </tr>\n",
              "  </tbody>\n",
              "</table>\n",
              "</div>"
            ],
            "text/plain": [
              "                                           ImageName      Labels\n",
              "0        SynthImageDataset/2425/1/115_Lube_45484.jpg        LUBE\n",
              "1  SynthImageDataset/2425/1/114_Spencerian_73323.jpg  SPENCERIAN\n",
              "2   SynthImageDataset/2425/1/112_CARPENTER_11682.jpg   CARPENTER\n",
              "3    SynthImageDataset/2425/1/110_savannas_67969.jpg    SAVANNAS\n",
              "4       SynthImageDataset/2425/1/109_unfix_82473.jpg       UNFIX"
            ]
          },
          "metadata": {
            "tags": []
          },
          "execution_count": 24
        }
      ]
    },
    {
      "cell_type": "code",
      "metadata": {
        "id": "Wsrhkmrt6fjW"
      },
      "source": [
        "val_data.to_csv('Validation_data.csv')"
      ],
      "execution_count": 25,
      "outputs": []
    },
    {
      "cell_type": "markdown",
      "metadata": {
        "id": "_YIAgx2ZDECW"
      },
      "source": [
        "#**TEST DATA CREATION**"
      ]
    },
    {
      "cell_type": "code",
      "metadata": {
        "id": "UA0CpWkv6iyu"
      },
      "source": [
        "test_images=Extract_image_names('/content/gdrive/MyDrive/annotation_test.txt',15000)"
      ],
      "execution_count": 26,
      "outputs": []
    },
    {
      "cell_type": "code",
      "metadata": {
        "id": "ENC6BVtl75jt"
      },
      "source": [
        "test_cleaned=clean_file_names(test_images)"
      ],
      "execution_count": 27,
      "outputs": []
    },
    {
      "cell_type": "code",
      "metadata": {
        "id": "-wClIpZP78ae"
      },
      "source": [
        "test_data=pd.DataFrame({'ImageName':test_cleaned})"
      ],
      "execution_count": 28,
      "outputs": []
    },
    {
      "cell_type": "code",
      "metadata": {
        "colab": {
          "base_uri": "https://localhost:8080/",
          "height": 198
        },
        "id": "rVkkgLDQ7-bl",
        "outputId": "5f00cd02-0e24-47b8-bc0a-e671d9cb3fc5"
      },
      "source": [
        "test_data.head()"
      ],
      "execution_count": 29,
      "outputs": [
        {
          "output_type": "execute_result",
          "data": {
            "text/html": [
              "<div>\n",
              "<style scoped>\n",
              "    .dataframe tbody tr th:only-of-type {\n",
              "        vertical-align: middle;\n",
              "    }\n",
              "\n",
              "    .dataframe tbody tr th {\n",
              "        vertical-align: top;\n",
              "    }\n",
              "\n",
              "    .dataframe thead th {\n",
              "        text-align: right;\n",
              "    }\n",
              "</style>\n",
              "<table border=\"1\" class=\"dataframe\">\n",
              "  <thead>\n",
              "    <tr style=\"text-align: right;\">\n",
              "      <th></th>\n",
              "      <th>ImageName</th>\n",
              "    </tr>\n",
              "  </thead>\n",
              "  <tbody>\n",
              "    <tr>\n",
              "      <th>0</th>\n",
              "      <td>SynthImageDataset/3000/7/182_slinking_71711.jpg</td>\n",
              "    </tr>\n",
              "    <tr>\n",
              "      <th>1</th>\n",
              "      <td>SynthImageDataset/3000/7/181_REMODELERS_64541.jpg</td>\n",
              "    </tr>\n",
              "    <tr>\n",
              "      <th>2</th>\n",
              "      <td>SynthImageDataset/3000/7/180_Chronographs_1353...</td>\n",
              "    </tr>\n",
              "    <tr>\n",
              "      <th>3</th>\n",
              "      <td>SynthImageDataset/3000/7/179_Impeaching_38222.jpg</td>\n",
              "    </tr>\n",
              "    <tr>\n",
              "      <th>4</th>\n",
              "      <td>SynthImageDataset/3000/7/177_Loots_45256.jpg</td>\n",
              "    </tr>\n",
              "  </tbody>\n",
              "</table>\n",
              "</div>"
            ],
            "text/plain": [
              "                                           ImageName\n",
              "0    SynthImageDataset/3000/7/182_slinking_71711.jpg\n",
              "1  SynthImageDataset/3000/7/181_REMODELERS_64541.jpg\n",
              "2  SynthImageDataset/3000/7/180_Chronographs_1353...\n",
              "3  SynthImageDataset/3000/7/179_Impeaching_38222.jpg\n",
              "4       SynthImageDataset/3000/7/177_Loots_45256.jpg"
            ]
          },
          "metadata": {
            "tags": []
          },
          "execution_count": 29
        }
      ]
    },
    {
      "cell_type": "code",
      "metadata": {
        "id": "1hr2W1PC8AAu"
      },
      "source": [
        "test_ground_truths=extract_ground_truth(test_cleaned)"
      ],
      "execution_count": 30,
      "outputs": []
    },
    {
      "cell_type": "code",
      "metadata": {
        "id": "1NnSE_Gw8CLe"
      },
      "source": [
        "test_data['Labels']=test_ground_truths"
      ],
      "execution_count": 31,
      "outputs": []
    },
    {
      "cell_type": "code",
      "metadata": {
        "colab": {
          "base_uri": "https://localhost:8080/",
          "height": 198
        },
        "id": "2fBBPl8e8Dn-",
        "outputId": "b338d268-cafc-4273-efa6-c6b2391a065d"
      },
      "source": [
        "test_data.head()"
      ],
      "execution_count": 32,
      "outputs": [
        {
          "output_type": "execute_result",
          "data": {
            "text/html": [
              "<div>\n",
              "<style scoped>\n",
              "    .dataframe tbody tr th:only-of-type {\n",
              "        vertical-align: middle;\n",
              "    }\n",
              "\n",
              "    .dataframe tbody tr th {\n",
              "        vertical-align: top;\n",
              "    }\n",
              "\n",
              "    .dataframe thead th {\n",
              "        text-align: right;\n",
              "    }\n",
              "</style>\n",
              "<table border=\"1\" class=\"dataframe\">\n",
              "  <thead>\n",
              "    <tr style=\"text-align: right;\">\n",
              "      <th></th>\n",
              "      <th>ImageName</th>\n",
              "      <th>Labels</th>\n",
              "    </tr>\n",
              "  </thead>\n",
              "  <tbody>\n",
              "    <tr>\n",
              "      <th>0</th>\n",
              "      <td>SynthImageDataset/3000/7/182_slinking_71711.jpg</td>\n",
              "      <td>SLINKING</td>\n",
              "    </tr>\n",
              "    <tr>\n",
              "      <th>1</th>\n",
              "      <td>SynthImageDataset/3000/7/181_REMODELERS_64541.jpg</td>\n",
              "      <td>REMODELERS</td>\n",
              "    </tr>\n",
              "    <tr>\n",
              "      <th>2</th>\n",
              "      <td>SynthImageDataset/3000/7/180_Chronographs_1353...</td>\n",
              "      <td>CHRONOGRAPHS</td>\n",
              "    </tr>\n",
              "    <tr>\n",
              "      <th>3</th>\n",
              "      <td>SynthImageDataset/3000/7/179_Impeaching_38222.jpg</td>\n",
              "      <td>IMPEACHING</td>\n",
              "    </tr>\n",
              "    <tr>\n",
              "      <th>4</th>\n",
              "      <td>SynthImageDataset/3000/7/177_Loots_45256.jpg</td>\n",
              "      <td>LOOTS</td>\n",
              "    </tr>\n",
              "  </tbody>\n",
              "</table>\n",
              "</div>"
            ],
            "text/plain": [
              "                                           ImageName        Labels\n",
              "0    SynthImageDataset/3000/7/182_slinking_71711.jpg      SLINKING\n",
              "1  SynthImageDataset/3000/7/181_REMODELERS_64541.jpg    REMODELERS\n",
              "2  SynthImageDataset/3000/7/180_Chronographs_1353...  CHRONOGRAPHS\n",
              "3  SynthImageDataset/3000/7/179_Impeaching_38222.jpg    IMPEACHING\n",
              "4       SynthImageDataset/3000/7/177_Loots_45256.jpg         LOOTS"
            ]
          },
          "metadata": {
            "tags": []
          },
          "execution_count": 32
        }
      ]
    },
    {
      "cell_type": "code",
      "metadata": {
        "id": "IVJW65228FJW"
      },
      "source": [
        "test_data.to_csv('Test_data.csv')"
      ],
      "execution_count": 33,
      "outputs": []
    },
    {
      "cell_type": "markdown",
      "metadata": {
        "id": "Ls2pRWlp8Rqq"
      },
      "source": [
        "**Converting Images to Grayscale i.e Single Channel**"
      ]
    },
    {
      "cell_type": "code",
      "metadata": {
        "id": "mu2ArJTw8G62"
      },
      "source": [
        "def img_store_single_channel(destination_folder,files):\r\n",
        "    start=datetime.now()\r\n",
        "    destination_list=[]\r\n",
        "    count=1\r\n",
        "    for file in files:\r\n",
        "        #Removing the extra folder structures\r\n",
        "        _,_,_,Name=file.split('/')\r\n",
        "        _,img,_=Name.split('_')\r\n",
        "        destination=destination_folder+str(count)+'_'+img+'.jpg'\r\n",
        "        cv_img=cv2.imread(file)\r\n",
        "        cv_img_sc=cv_resized[:,:,1]\r\n",
        "        cv2.imwrite(destination,cv_img_sc)\r\n",
        "        destination_list.append(destination)\r\n",
        "        count+=1\r\n",
        "#         if count%10000==0:\r\n",
        "#             print(\"Processed Images: \",count)\r\n",
        "    print('Time Taken for Processing: ',datetime.now() - start)\r\n",
        "    return destination_list"
      ],
      "execution_count": 48,
      "outputs": []
    },
    {
      "cell_type": "code",
      "metadata": {
        "id": "glbF6Y5A8nK-"
      },
      "source": [
        ""
      ],
      "execution_count": null,
      "outputs": []
    }
  ]
}